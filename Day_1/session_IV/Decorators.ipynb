{
 "cells": [
  {
   "cell_type": "code",
   "execution_count": 5,
   "id": "ac911e07-e93b-4ce2-99c0-6637df53c26c",
   "metadata": {},
   "outputs": [
    {
     "name": "stdout",
     "output_type": "stream",
     "text": [
      "['__add__', '__class__', '__contains__', '__delattr__', '__dir__', '__doc__', '__eq__', '__format__', '__ge__', '__getattribute__', '__getitem__', '__getnewargs__', '__getstate__', '__gt__', '__hash__', '__init__', '__init_subclass__', '__iter__', '__le__', '__len__', '__lt__', '__mod__', '__mul__', '__ne__', '__new__', '__reduce__', '__reduce_ex__', '__repr__', '__rmod__', '__rmul__', '__setattr__', '__sizeof__', '__str__', '__subclasshook__', 'capitalize', 'casefold', 'center', 'count', 'encode', 'endswith', 'expandtabs', 'find', 'format', 'format_map', 'index', 'isalnum', 'isalpha', 'isascii', 'isdecimal', 'isdigit', 'isidentifier', 'islower', 'isnumeric', 'isprintable', 'isspace', 'istitle', 'isupper', 'join', 'ljust', 'lower', 'lstrip', 'maketrans', 'partition', 'removeprefix', 'removesuffix', 'replace', 'rfind', 'rindex', 'rjust', 'rpartition', 'rsplit', 'rstrip', 'split', 'splitlines', 'startswith', 'strip', 'swapcase', 'title', 'translate', 'upper', 'zfill']\n"
     ]
    }
   ],
   "source": [
    "print(dir(str))"
   ]
  },
  {
   "cell_type": "code",
   "execution_count": 77,
   "id": "c4d993d1-1e65-4fe8-be5c-16c534efae8e",
   "metadata": {},
   "outputs": [],
   "source": [
    "def greeting_func(func):\n",
    "    def wrapper_func(*args,**kwargs):\n",
    "        if all([isinstance(arg,str) for arg in args]):\n",
    "            args = [arg.title() for arg in args]\n",
    "            result = func(*args,**kwargs)\n",
    "            return result\n",
    "        else:\n",
    "            print(\"What a weird name\")\n",
    "            result = func(*args,**kwargs)\n",
    "            return result\n",
    "    return wrapper_func\n",
    "        \n",
    "    "
   ]
  },
  {
   "cell_type": "code",
   "execution_count": 35,
   "id": "a0e8576b-1732-4ab4-8ea0-8d55d5f20a84",
   "metadata": {},
   "outputs": [],
   "source": [
    "def title_case(name):\n",
    "    return f\"{name.title()}\""
   ]
  },
  {
   "cell_type": "code",
   "execution_count": 55,
   "id": "6fc7e9e6-c4af-4d30-8490-23907e0c218e",
   "metadata": {},
   "outputs": [
    {
     "data": {
      "text/plain": [
       "'Hello How Are You Doing Python'"
      ]
     },
     "execution_count": 55,
     "metadata": {},
     "output_type": "execute_result"
    }
   ],
   "source": [
    "title_case(greet(\"python\"))"
   ]
  },
  {
   "cell_type": "code",
   "execution_count": 81,
   "id": "c59caafb-31cb-4a28-ac49-257b847db751",
   "metadata": {},
   "outputs": [
    {
     "data": {
      "text/plain": [
       "'Hello how are you doing 1232389'"
      ]
     },
     "execution_count": 81,
     "metadata": {},
     "output_type": "execute_result"
    }
   ],
   "source": [
    "@greeting_func\n",
    "def greet(name):\n",
    "    return f\"Hello how are you doing {name}\"\n",
    "\n",
    "greet(\"1232389\")"
   ]
  },
  {
   "cell_type": "code",
   "execution_count": null,
   "id": "0da260f0-b591-419d-a4ae-57359cd48e5a",
   "metadata": {},
   "outputs": [],
   "source": []
  },
  {
   "cell_type": "code",
   "execution_count": null,
   "id": "665fa707-80fd-45fa-b1bf-cb5091796954",
   "metadata": {},
   "outputs": [],
   "source": []
  },
  {
   "cell_type": "code",
   "execution_count": null,
   "id": "c09a332c-937c-4fce-a3be-8eff0d1b70e5",
   "metadata": {},
   "outputs": [],
   "source": []
  },
  {
   "cell_type": "code",
   "execution_count": null,
   "id": "ce37a0c9-701a-45a3-96f1-555907ab77ec",
   "metadata": {},
   "outputs": [],
   "source": []
  },
  {
   "cell_type": "code",
   "execution_count": null,
   "id": "1295a583-6ad9-427f-821d-fb0c6684f5b4",
   "metadata": {},
   "outputs": [],
   "source": []
  },
  {
   "cell_type": "code",
   "execution_count": null,
   "id": "9e049b0e-4a05-4ac1-94e5-ded69dd93d98",
   "metadata": {},
   "outputs": [],
   "source": []
  }
 ],
 "metadata": {
  "kernelspec": {
   "display_name": "Python 3 (ipykernel)",
   "language": "python",
   "name": "python3"
  },
  "language_info": {
   "codemirror_mode": {
    "name": "ipython",
    "version": 3
   },
   "file_extension": ".py",
   "mimetype": "text/x-python",
   "name": "python",
   "nbconvert_exporter": "python",
   "pygments_lexer": "ipython3",
   "version": "3.12.4"
  }
 },
 "nbformat": 4,
 "nbformat_minor": 5
}
