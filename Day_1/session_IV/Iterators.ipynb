{
 "cells": [
  {
   "cell_type": "markdown",
   "metadata": {},
   "source": [
    "## Iterators for Collections"
   ]
  },
  {
   "cell_type": "code",
   "execution_count": null,
   "metadata": {},
   "outputs": [],
   "source": [
    "dict_num = {1:1,2:4,3:9,4:16}"
   ]
  },
  {
   "cell_type": "code",
   "execution_count": null,
   "metadata": {},
   "outputs": [],
   "source": [
    "k = iter(dict_num)"
   ]
  },
  {
   "cell_type": "code",
   "execution_count": null,
   "metadata": {},
   "outputs": [],
   "source": [
    "print(next(k),next(k),next(k),next(k))"
   ]
  },
  {
   "cell_type": "code",
   "execution_count": null,
   "metadata": {},
   "outputs": [],
   "source": [
    "v = iter(dict_num.values())"
   ]
  },
  {
   "cell_type": "code",
   "execution_count": null,
   "metadata": {},
   "outputs": [],
   "source": [
    "print(next(v),next(v),next(v),next(v))"
   ]
  },
  {
   "cell_type": "markdown",
   "metadata": {},
   "source": [
    "## Iterators for class objects"
   ]
  },
  {
   "cell_type": "code",
   "execution_count": 5,
   "metadata": {},
   "outputs": [],
   "source": [
    "class Company:\n",
    "    def __init__(self,name):\n",
    "        self.name = name        \n",
    "        self.__lst_cars = list()\n",
    "        self.__index = 0\n",
    "    \n",
    "    def add_cars(self,*args):\n",
    "        for i in args:\n",
    "            self.__lst_cars.append(i)\n",
    "#         self.__index = len(self.__lst_cars) ## For decreasing index\n",
    "        return self.__lst_cars\n",
    "        \n",
    "    def __iter__(self):\n",
    "        return self\n",
    "    \n",
    "    def __next__(self):\n",
    "#         if self.__index == 0: ## For decreasing index\n",
    "        if self.__index == len(self.__lst_cars): ## For increasing index\n",
    "            raise StopIteration\n",
    "        car = self.__lst_cars[self.__index]\n",
    "        self.__index = self.__index+1  \n",
    "        ## self.__index = self.__index-1.  ## For decreasing index\n",
    "        return car\n",
    "\n",
    "            "
   ]
  },
  {
   "cell_type": "code",
   "execution_count": 6,
   "metadata": {},
   "outputs": [
    {
     "data": {
      "text/plain": [
       "['figo', 'figos', 'ecosport', 'mustang']"
      ]
     },
     "execution_count": 6,
     "metadata": {},
     "output_type": "execute_result"
    }
   ],
   "source": [
    "maruti = Company('maruti')\n",
    "hyundai = Company('hyundai')\n",
    "ford = Company('Ford')\n",
    "\n",
    "maruti.add_cars('alto','celerio','baleno','swift')\n",
    "hyundai.add_cars('santro','accent','i10','i20')\n",
    "ford.add_cars('figo','figos','ecosport','mustang')"
   ]
  },
  {
   "cell_type": "code",
   "execution_count": 12,
   "metadata": {
    "tags": []
   },
   "outputs": [
    {
     "name": "stdout",
     "output_type": "stream",
     "text": [
      "figo\n",
      "figos\n",
      "ecosport\n",
      "mustang\n"
     ]
    }
   ],
   "source": [
    "for car in ford:\n",
    "    print(car)"
   ]
  },
  {
   "cell_type": "code",
   "execution_count": null,
   "metadata": {},
   "outputs": [],
   "source": [
    "for car in maruti:\n",
    "    print(car)"
   ]
  },
  {
   "cell_type": "code",
   "execution_count": null,
   "metadata": {},
   "outputs": [],
   "source": [
    "car = iter(ford)\n",
    "\n",
    "next(car)"
   ]
  },
  {
   "cell_type": "code",
   "execution_count": null,
   "metadata": {},
   "outputs": [],
   "source": [
    "ford.add_cars('freestyle')\n",
    "\n",
    "for car in ford:\n",
    "    print(car)"
   ]
  }
 ],
 "metadata": {
  "kernelspec": {
   "display_name": "Python 3",
   "language": "python",
   "name": "python3"
  },
  "language_info": {
   "codemirror_mode": {
    "name": "ipython",
    "version": 3
   },
   "file_extension": ".py",
   "mimetype": "text/x-python",
   "name": "python",
   "nbconvert_exporter": "python",
   "pygments_lexer": "ipython3",
   "version": "3.7.6"
  }
 },
 "nbformat": 4,
 "nbformat_minor": 2
}
