{
 "cells": [
  {
   "cell_type": "code",
   "execution_count": 1,
   "metadata": {},
   "outputs": [],
   "source": [
    "import json"
   ]
  },
  {
   "cell_type": "code",
   "execution_count": 2,
   "metadata": {},
   "outputs": [
    {
     "data": {
      "text/plain": [
       "['JSONDecodeError',\n",
       " 'JSONDecoder',\n",
       " 'JSONEncoder',\n",
       " '__all__',\n",
       " '__author__',\n",
       " '__builtins__',\n",
       " '__cached__',\n",
       " '__doc__',\n",
       " '__file__',\n",
       " '__loader__',\n",
       " '__name__',\n",
       " '__package__',\n",
       " '__path__',\n",
       " '__spec__',\n",
       " '__version__',\n",
       " '_default_decoder',\n",
       " '_default_encoder',\n",
       " 'codecs',\n",
       " 'decoder',\n",
       " 'detect_encoding',\n",
       " 'dump',\n",
       " 'dumps',\n",
       " 'encoder',\n",
       " 'load',\n",
       " 'loads',\n",
       " 'scanner']"
      ]
     },
     "execution_count": 2,
     "metadata": {},
     "output_type": "execute_result"
    }
   ],
   "source": [
    "dir(json)"
   ]
  },
  {
   "cell_type": "markdown",
   "metadata": {},
   "source": [
    "# JSON Encoding"
   ]
  },
  {
   "cell_type": "code",
   "execution_count": 3,
   "metadata": {},
   "outputs": [],
   "source": [
    "lst_stud = list()\n",
    "stud_1 ={'Name':'Ron','Branch':'Computer','Interest':'Programming'}\n",
    "stud_2 = {'Name':'Harry','Branch':'Literature','Interest':'Books'}\n",
    "stud_3 = {'Name':'Thomas','Branch':'Mathematics','Interest':'Solving Equation'}\n",
    "lst_stud.extend([stud_1,stud_2,stud_3])"
   ]
  },
  {
   "cell_type": "code",
   "execution_count": 4,
   "metadata": {},
   "outputs": [],
   "source": [
    "dict_students = {stud['Name']:stud for stud in lst_stud}"
   ]
  },
  {
   "cell_type": "code",
   "execution_count": 5,
   "metadata": {},
   "outputs": [],
   "source": [
    "with open('test_json.txt','w') as fp:\n",
    "    e1 = json.dumps(lst_stud)\n",
    "    json.dump(lst_stud,fp,indent=4)"
   ]
  },
  {
   "cell_type": "code",
   "execution_count": 6,
   "metadata": {},
   "outputs": [
    {
     "data": {
      "text/plain": [
       "'[{\"Name\": \"Ron\", \"Branch\": \"Computer\", \"Interest\": \"Programming\"}, {\"Name\": \"Harry\", \"Branch\": \"Literature\", \"Interest\": \"Books\"}, {\"Name\": \"Thomas\", \"Branch\": \"Mathematics\", \"Interest\": \"Solving Equation\"}]'"
      ]
     },
     "execution_count": 6,
     "metadata": {},
     "output_type": "execute_result"
    }
   ],
   "source": [
    "e1"
   ]
  },
  {
   "cell_type": "code",
   "execution_count": 7,
   "metadata": {},
   "outputs": [],
   "source": [
    "with open('test_json_dict','w') as fp:\n",
    "    e2 = json.dumps(dict_students)\n",
    "    json.dump(dict_students,fp,indent=4)"
   ]
  },
  {
   "cell_type": "code",
   "execution_count": 8,
   "metadata": {},
   "outputs": [
    {
     "data": {
      "text/plain": [
       "'{\"Ron\": {\"Name\": \"Ron\", \"Branch\": \"Computer\", \"Interest\": \"Programming\"}, \"Harry\": {\"Name\": \"Harry\", \"Branch\": \"Literature\", \"Interest\": \"Books\"}, \"Thomas\": {\"Name\": \"Thomas\", \"Branch\": \"Mathematics\", \"Interest\": \"Solving Equation\"}}'"
      ]
     },
     "execution_count": 8,
     "metadata": {},
     "output_type": "execute_result"
    }
   ],
   "source": [
    "e2"
   ]
  },
  {
   "cell_type": "code",
   "execution_count": null,
   "metadata": {},
   "outputs": [],
   "source": [
    "dict_students"
   ]
  },
  {
   "cell_type": "markdown",
   "metadata": {},
   "source": [
    "# JSON Decoding"
   ]
  },
  {
   "cell_type": "code",
   "execution_count": 9,
   "metadata": {},
   "outputs": [],
   "source": [
    "d1 = json.loads(e1)\n",
    "d2 = json.loads(e2)"
   ]
  },
  {
   "cell_type": "code",
   "execution_count": 10,
   "metadata": {},
   "outputs": [
    {
     "data": {
      "text/plain": [
       "{'Ron': {'Name': 'Ron', 'Branch': 'Computer', 'Interest': 'Programming'},\n",
       " 'Harry': {'Name': 'Harry', 'Branch': 'Literature', 'Interest': 'Books'},\n",
       " 'Thomas': {'Name': 'Thomas',\n",
       "  'Branch': 'Mathematics',\n",
       "  'Interest': 'Solving Equation'}}"
      ]
     },
     "execution_count": 10,
     "metadata": {},
     "output_type": "execute_result"
    }
   ],
   "source": [
    "with open('test_json_dict','r') as fr:\n",
    "    e3 = json.load(fr)\n",
    "e3"
   ]
  },
  {
   "cell_type": "code",
   "execution_count": 11,
   "metadata": {},
   "outputs": [
    {
     "data": {
      "text/plain": [
       "{'Name': 'Ron', 'Branch': 'Computer', 'Interest': 'Programming'}"
      ]
     },
     "execution_count": 11,
     "metadata": {},
     "output_type": "execute_result"
    }
   ],
   "source": [
    "d1[0]"
   ]
  },
  {
   "cell_type": "code",
   "execution_count": 12,
   "metadata": {},
   "outputs": [
    {
     "data": {
      "text/plain": [
       "{'Name': 'Ron', 'Branch': 'Computer', 'Interest': 'Programming'}"
      ]
     },
     "execution_count": 12,
     "metadata": {},
     "output_type": "execute_result"
    }
   ],
   "source": [
    "d2['Ron']"
   ]
  },
  {
   "cell_type": "code",
   "execution_count": null,
   "metadata": {},
   "outputs": [],
   "source": [
    "help(json.load)"
   ]
  },
  {
   "cell_type": "markdown",
   "metadata": {},
   "source": [
    "## JSON in Classes and Objects"
   ]
  },
  {
   "cell_type": "code",
   "execution_count": null,
   "metadata": {},
   "outputs": [],
   "source": [
    "# %load json1.py\n",
    "class Student:\n",
    "    def __init__(self,**kwargs):\n",
    "        self.stud_rec = dict()\n",
    "        Student.add_student(self,**kwargs)\n",
    "        \n",
    "    def __repr__(self):\n",
    "        return ','.join(list(self.stud_rec.keys()))\n",
    "        \n",
    "    def add_student(self,**kwargs):\n",
    "        self.stud_rec[kwargs['Name']] = kwargs"
   ]
  }
 ],
 "metadata": {
  "kernelspec": {
   "display_name": "Python 3",
   "language": "python",
   "name": "python3"
  },
  "language_info": {
   "codemirror_mode": {
    "name": "ipython",
    "version": 3
   },
   "file_extension": ".py",
   "mimetype": "text/x-python",
   "name": "python",
   "nbconvert_exporter": "python",
   "pygments_lexer": "ipython3",
   "version": "3.7.6"
  }
 },
 "nbformat": 4,
 "nbformat_minor": 2
}
