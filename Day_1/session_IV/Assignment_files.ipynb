{
 "cells": [
  {
   "cell_type": "markdown",
   "metadata": {},
   "source": [
    "## A file named mailbox.txt contains a mailbox with information on the received/sent or any information regarding the mails in a text format(.txt). \n",
    "## Use python to read the file and to get some information from the file"
   ]
  },
  {
   "cell_type": "markdown",
   "metadata": {},
   "source": [
    "## 1.  Write a program to get the following details of the mails which were received from the file : 'mailbox.txt'"
   ]
  },
  {
   "cell_type": "markdown",
   "metadata": {},
   "source": [
    "* Count the number of line in the mailbox\n",
    "* List the mail ids of all the received mails\n",
    "* Count the number of mails recieved in the mailbox\n",
    "* List all the domain names of the received mails\n",
    "* Count the number of mails received from each mail id\n",
    "* Sort the mail received in decending order of received mails from an email-id"
   ]
  },
  {
   "cell_type": "code",
   "execution_count": 3,
   "metadata": {},
   "outputs": [],
   "source": [
    "filename = 'mailbox.txt'"
   ]
  },
  {
   "cell_type": "code",
   "execution_count": 5,
   "metadata": {},
   "outputs": [
    {
     "data": {
      "text/plain": [
       "1910"
      ]
     },
     "execution_count": 5,
     "metadata": {},
     "output_type": "execute_result"
    }
   ],
   "source": [
    "# Count the number of lines in the mailbox\n",
    "\n",
    "def line_count(filename):\n",
    "    return len(open(filename).readlines())\n",
    "\n",
    "line_count(filename)"
   ]
  },
  {
   "cell_type": "code",
   "execution_count": 61,
   "metadata": {},
   "outputs": [],
   "source": [
    "lst_usernames = [\n",
    "    line.strip(\"From: \").split(\"@\")[0].strip(\"\\n\")\n",
    "    for line in open(filename).readlines()\n",
    "    if line.startswith(\"From: \")\n",
    "]\n",
    "dict_count = {}\n",
    "for username in lst_usernames:\n",
    "    dict_count[username] = dict_count.get(username,0) + 1"
   ]
  },
  {
   "cell_type": "code",
   "execution_count": 73,
   "metadata": {},
   "outputs": [
    {
     "data": {
      "text/plain": [
       "[('cwen', 5),\n",
       " ('zqian', 4),\n",
       " ('david.horwitz', 4),\n",
       " ('louis', 3),\n",
       " ('gsilver', 3),\n",
       " ('stephen.marquard', 2),\n",
       " ('jlowe', 2),\n",
       " ('wagnermr', 1),\n",
       " ('antranig', 1),\n",
       " ('gopal.ramasammycook', 1),\n",
       " ('ay', 1)]"
      ]
     },
     "execution_count": 73,
     "metadata": {},
     "output_type": "execute_result"
    }
   ],
   "source": [
    "sorted(dict_count,key= dict_count.get,reverse = True)\n",
    "sorted(dict_count.items(),key= lambda x:x[1],reverse = True)"
   ]
  },
  {
   "cell_type": "code",
   "execution_count": 33,
   "metadata": {},
   "outputs": [
    {
     "name": "stdout",
     "output_type": "stream",
     "text": [
      "uct.ac.za\n",
      "\n",
      "media.berkeley.edu\n",
      "\n",
      "umich.edu\n",
      "\n",
      "iupui.edu\n",
      "\n",
      "umich.edu\n",
      "\n",
      "iupui.edu\n",
      "\n",
      "iupui.edu\n",
      "\n",
      "iupui.edu\n",
      "\n",
      "umich.edu\n",
      "\n",
      "umich.edu\n",
      "\n",
      "umich.edu\n",
      "\n",
      "umich.edu\n",
      "\n",
      "iupui.edu\n",
      "\n",
      "umich.edu\n",
      "\n",
      "caret.cam.ac.uk\n",
      "\n",
      "gmail.com\n",
      "\n",
      "uct.ac.za\n",
      "\n",
      "uct.ac.za\n",
      "\n",
      "uct.ac.za\n",
      "\n",
      "uct.ac.za\n",
      "\n",
      "uct.ac.za\n",
      "\n",
      "media.berkeley.edu\n",
      "\n",
      "media.berkeley.edu\n",
      "\n",
      "media.berkeley.edu\n",
      "\n",
      "iupui.edu\n",
      "\n",
      "iupui.edu\n",
      "\n",
      "iupui.edu\n",
      "\n"
     ]
    }
   ],
   "source": [
    "with open(filename) as fh:\n",
    "    for line in fh.readlines():\n",
    "        if line.startswith(\"From: \"):\n",
    "            print(line.strip(\"From: \").split(\"@\")[1])"
   ]
  },
  {
   "cell_type": "code",
   "execution_count": null,
   "metadata": {},
   "outputs": [],
   "source": []
  },
  {
   "cell_type": "code",
   "execution_count": 15,
   "metadata": {
    "tags": [
     "outputPrepend"
    ]
   },
   "outputs": [
    {
     "name": "stdout",
     "output_type": "stream",
     "text": [
      "From stephen.marquard@uct.ac.za Sat Jan  5 09:14:16 2008\n",
      "\n",
      "From louis@media.berkeley.edu Fri Jan  4 18:10:48 2008\n",
      "\n",
      "From zqian@umich.edu Fri Jan  4 16:10:39 2008\n",
      "\n",
      "From rjlowe@iupui.edu Fri Jan  4 15:46:24 2008\n",
      "\n",
      "From zqian@umich.edu Fri Jan  4 15:03:18 2008\n",
      "\n",
      "From rjlowe@iupui.edu Fri Jan  4 14:50:18 2008\n",
      "\n",
      "From cwen@iupui.edu Fri Jan  4 11:37:30 2008\n",
      "\n",
      "From cwen@iupui.edu Fri Jan  4 11:35:08 2008\n",
      "\n",
      "From gsilver@umich.edu Fri Jan  4 11:12:37 2008\n",
      "\n",
      "From gsilver@umich.edu Fri Jan  4 11:11:52 2008\n",
      "\n",
      "From zqian@umich.edu Fri Jan  4 11:11:03 2008\n",
      "\n",
      "From gsilver@umich.edu Fri Jan  4 11:10:22 2008\n",
      "\n",
      "From wagnermr@iupui.edu Fri Jan  4 10:38:42 2008\n",
      "\n",
      "From zqian@umich.edu Fri Jan  4 10:17:43 2008\n",
      "\n",
      "From antranig@caret.cam.ac.uk Fri Jan  4 10:04:14 2008\n",
      "\n",
      "From gopal.ramasammycook@gmail.com Fri Jan  4 09:05:31 2008\n",
      "\n",
      "From david.horwitz@uct.ac.za Fri Jan  4 07:02:32 2008\n",
      "\n",
      "From david.horwitz@uct.ac.za Fri Jan  4 06:08:27 2008\n",
      "\n",
      "From david.horwitz@uct.ac.za Fri Jan  4 04:49:08 2008\n",
      "\n",
      "From david.horwitz@uct.ac.za Fri Jan  4 04:33:44 2008\n",
      "\n",
      "From stephen.marquard@uct.ac.za Fri Jan  4 04:07:34 2008\n",
      "\n",
      "From louis@media.berkeley.edu Thu Jan  3 19:51:21 2008\n",
      "\n",
      "From louis@media.berkeley.edu Thu Jan  3 17:18:23 2008\n",
      "\n",
      "From ray@media.berkeley.edu Thu Jan  3 17:07:00 2008\n",
      "\n",
      "From cwen@iupui.edu Thu Jan  3 16:34:40 2008\n",
      "\n",
      "From cwen@iupui.edu Thu Jan  3 16:29:07 2008\n",
      "\n",
      "From cwen@iupui.edu Thu Jan  3 16:23:48 2008\n",
      "\n"
     ]
    }
   ],
   "source": [
    "lst_cnt = list()\n",
    "with open(filename) as ffrom:\n",
    "    for line in ffrom.readlines():\n",
    "        if line.startswith('From '):\n",
    "            lst_cnt.append(line)\n",
    "len(lst_cnt)            "
   ]
  },
  {
   "cell_type": "code",
   "execution_count": 24,
   "metadata": {},
   "outputs": [
    {
     "data": {
      "text/plain": [
       "27"
      ]
     },
     "execution_count": 24,
     "metadata": {},
     "output_type": "execute_result"
    }
   ],
   "source": [
    "def count_mails_from(filename):\n",
    "    return len([line for line in open(filename).readlines() if line.startswith('From ')])\n",
    "\n",
    "count_mails_from(filename)"
   ]
  },
  {
   "cell_type": "code",
   "execution_count": 34,
   "metadata": {},
   "outputs": [
    {
     "data": {
      "text/plain": [
       "11"
      ]
     },
     "execution_count": 34,
     "metadata": {},
     "output_type": "execute_result"
    }
   ],
   "source": [
    "len(set([line.split(' ')[1].split('@')[0] for line in open(filename).readlines() if line.startswith('From ')]))"
   ]
  },
  {
   "cell_type": "code",
   "execution_count": 36,
   "metadata": {},
   "outputs": [
    {
     "name": "stdout",
     "output_type": "stream",
     "text": [
      "{'stephen.marquard': 2, 'louis': 3, 'zqian': 4, 'rjlowe': 2, 'cwen': 5, 'gsilver': 3, 'wagnermr': 1, 'antranig': 1, 'gopal.ramasammycook': 1, 'david.horwitz': 4, 'ray': 1}\n"
     ]
    }
   ],
   "source": [
    "lst_emails = [line.split(' ')[1].split('@')[0] for line in open(filename).readlines() if line.startswith('From ')]\n",
    "dict_cnt = dict()\n",
    "for username in lst_emails:\n",
    "    dict_cnt[username] = dict_cnt.get(username,0) +1\n",
    "print(dict_cnt)"
   ]
  },
  {
   "cell_type": "code",
   "execution_count": 37,
   "metadata": {},
   "outputs": [
    {
     "data": {
      "text/plain": [
       "['cwen',\n",
       " 'zqian',\n",
       " 'david.horwitz',\n",
       " 'louis',\n",
       " 'gsilver',\n",
       " 'stephen.marquard',\n",
       " 'rjlowe',\n",
       " 'wagnermr',\n",
       " 'antranig',\n",
       " 'gopal.ramasammycook',\n",
       " 'ray']"
      ]
     },
     "execution_count": 37,
     "metadata": {},
     "output_type": "execute_result"
    }
   ],
   "source": [
    "sorted(dict_cnt,key = dict_cnt.get,reverse=True)"
   ]
  }
 ],
 "metadata": {
  "kernelspec": {
   "display_name": "Python 3 (ipykernel)",
   "language": "python",
   "name": "python3"
  },
  "language_info": {
   "codemirror_mode": {
    "name": "ipython",
    "version": 3
   },
   "file_extension": ".py",
   "mimetype": "text/x-python",
   "name": "python",
   "nbconvert_exporter": "python",
   "pygments_lexer": "ipython3",
   "version": "3.12.4"
  }
 },
 "nbformat": 4,
 "nbformat_minor": 4
}
