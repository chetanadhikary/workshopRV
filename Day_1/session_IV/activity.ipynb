{
 "cells": [
  {
   "cell_type": "code",
   "execution_count": 15,
   "id": "e5df3a96-f210-4e86-ab46-55f4b007f730",
   "metadata": {},
   "outputs": [],
   "source": [
    "import requests\n",
    "import json"
   ]
  },
  {
   "cell_type": "code",
   "execution_count": 99,
   "id": "1c16dfe3-27db-453e-a233-25d424507612",
   "metadata": {},
   "outputs": [],
   "source": [
    "dict_db = dict()"
   ]
  },
  {
   "cell_type": "code",
   "execution_count": 217,
   "id": "434b1133-3780-4d74-95cd-42413015a281",
   "metadata": {},
   "outputs": [],
   "source": [
    "payload = {\"format\":\"json\"}\n",
    "cnt = \"usa\"\n",
    "response = requests.get(f\"https://api.worldbank.org/v2/country/{cnt}\",params=payload)\n",
    "\n",
    "\n",
    "if response.status_code == 200:\n",
    "    lst_response = response.json()\n",
    "    "
   ]
  },
  {
   "cell_type": "code",
   "execution_count": 221,
   "id": "6d4778f6-c30a-4864-b5fc-585053717dd4",
   "metadata": {},
   "outputs": [
    {
     "data": {
      "text/plain": [
       "[{'page': 1, 'pages': 1, 'per_page': '50', 'total': 1},\n",
       " [{'id': 'USA',\n",
       "   'iso2Code': 'US',\n",
       "   'name': 'United States',\n",
       "   'region': {'id': 'NAC', 'iso2code': 'XU', 'value': 'North America'},\n",
       "   'adminregion': {'id': '', 'iso2code': '', 'value': ''},\n",
       "   'incomeLevel': {'id': 'HIC', 'iso2code': 'XD', 'value': 'High income'},\n",
       "   'lendingType': {'id': 'LNX', 'iso2code': 'XX', 'value': 'Not classified'},\n",
       "   'capitalCity': 'Washington D.C.',\n",
       "   'longitude': '-77.032',\n",
       "   'latitude': '38.8895'}]]"
      ]
     },
     "execution_count": 221,
     "metadata": {},
     "output_type": "execute_result"
    }
   ],
   "source": [
    "lst_response"
   ]
  },
  {
   "cell_type": "code",
   "execution_count": null,
   "id": "fca14b68-8a7c-4fbb-8d3e-562890214eea",
   "metadata": {},
   "outputs": [],
   "source": []
  }
 ],
 "metadata": {
  "kernelspec": {
   "display_name": "Python 3 (ipykernel)",
   "language": "python",
   "name": "python3"
  },
  "language_info": {
   "codemirror_mode": {
    "name": "ipython",
    "version": 3
   },
   "file_extension": ".py",
   "mimetype": "text/x-python",
   "name": "python",
   "nbconvert_exporter": "python",
   "pygments_lexer": "ipython3",
   "version": "3.12.4"
  }
 },
 "nbformat": 4,
 "nbformat_minor": 5
}
