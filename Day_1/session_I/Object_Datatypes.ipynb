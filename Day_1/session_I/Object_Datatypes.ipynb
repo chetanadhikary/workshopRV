{
 "cells": [
  {
   "cell_type": "markdown",
   "metadata": {},
   "source": [
    "# Object types"
   ]
  },
  {
   "cell_type": "markdown",
   "metadata": {},
   "source": [
    "<table id=\"built-in_objects_preview\"><caption><span class=\"label\">Table 4-1. </span></caption><thead><tr><th>Object\n",
    "            type</th><th>Example\n",
    "            literals/creation</th></tr></thead><tbody><tr><td><p>Num<a data-type=\"indexterm\" data-primary=\"numbers\" data-secondary=\"numeric literals\" id=\"idm45598228681320\"></a><a data-type=\"indexterm\" data-primary=\"literals\" data-secondary=\"numeric\" id=\"idm45598228680344\"></a>bers</p></td><td><p><code>1234</code>, <code>3.1415</code>, <code>3+4j</code>, <code>0b111</code>, <code>Decimal()</code>, <code>Fraction()</code></p></td></tr><tr><td><p>Strin<a data-type=\"indexterm\" data-primary=\"strings (str object)\" data-secondary=\"literals\" id=\"idm45598228673432\"></a><a data-type=\"indexterm\" data-primary=\"literals\" data-secondary=\"string\" id=\"idm45598228672280\"></a>gs</p></td><td><p><code>'spam'</code>, <code>\"Bob's\"</code>, <code>b'a\\x01c'</code>, <code>u'sp\\xc4m'</code></p></td></tr><tr><td><p>Lis<a data-type=\"indexterm\" data-primary=\"lists (list object)\" data-secondary=\"literals\" id=\"idm45598228668248\"></a><a data-type=\"indexterm\" data-primary=\"literals\" data-secondary=\"list\" id=\"idm45598228667016\"></a>ts</p></td><td><p><code>[1, [2, 'three'], 4.5]</code>, <code>list(range(10))</code></p></td></tr><tr><td><p>Dict<a data-type=\"indexterm\" data-primary=\"dictionaries (dict object)\" data-secondary=\"literals\" id=\"idm45598228663496\"></a><a data-type=\"indexterm\" data-primary=\"literals\" data-secondary=\"dictionary\" id=\"idm45598228662264\"></a>ionaries</p></td><td><p><code>{'food': 'spam', 'taste': 'yum'}</code>,\n",
    "            <code>dict(hours=10)</code></p></td></tr><tr><td><p>Tup<a data-type=\"indexterm\" data-primary=\"tuples\" data-secondary=\"literals\" id=\"idm45598228658776\"></a><a data-type=\"indexterm\" data-primary=\"literals\" data-secondary=\"tuple\" id=\"idm45598228657480\"></a>les</p></td><td><p><code>(1, 'spam', 4, 'U')</code>, <code>tuple('spam')</code>, <code>namedtuple</code></p></td></tr><tr><td><p>Set<a data-type=\"indexterm\" data-primary=\"sets\" data-secondary=\"literals\" id=\"idm45598228648696\"></a><a data-type=\"indexterm\" data-primary=\"literals\" data-secondary=\"set\" id=\"idm45598228647496\"></a>s</p></td><td><p><code>set('abc')</code>, <code>{'a', 'b', 'c'}</code></p></td></tr></tbody></table"
   ]
  },
  {
   "cell_type": "markdown",
   "metadata": {},
   "source": [
    "<html>\n",
    "    <i> Source  : Learning Python, 5th Edition\n",
    "by Mark Lutz </i>"
   ]
  },
  {
   "cell_type": "markdown",
   "metadata": {},
   "source": [
    "# Numerical Datatype"
   ]
  },
  {
   "cell_type": "markdown",
   "metadata": {},
   "source": [
    "<table id=\"numeric_literals_and_constructors\"><caption><span class=\"label\">Table 5-1. </span></caption><thead><tr><th>Literal</th><th>Interpretation</th></tr></thead><tbody><tr><td><p><code>1234</code>, <code>−24</code>, <code>0</code>, <code>99999999999999</code></p></td><td><p>Integers (unlimited\n",
    "              size)</p></td></tr><tr><td><p><code>1.23</code>, <code>1.</code>, <code>3.14e-10</code>, <code>4E210</code>, <code>4.0e+210</code></p></td><td><p>Floating-point\n",
    "              numbers</p></td></tr><tr><td><p><code>0o177</code>, <code>0x9ff</code>, <code>0b101010</code></p></td><td><p>Octal, hex, and binary\n",
    "              literals in 3.X</p></td></tr><tr><td><p><code>3+4j</code>, <code>3.0+4.0j</code>, <code>3J</code></p></td><td><p>Complex number\n",
    "              literals</p></td></tr></tbody></table>"
   ]
  },
  {
   "cell_type": "markdown",
   "metadata": {},
   "source": [
    "<html>\n",
    "    <i> Source  : Learning Python, 5th Edition\n",
    "by Mark Lutz </i>"
   ]
  },
  {
   "cell_type": "markdown",
   "metadata": {},
   "source": [
    "<html>\n",
    "    <b> Mathematical Operators and Description </b>"
   ]
  },
  {
   "cell_type": "markdown",
   "metadata": {},
   "source": [
    "<table id=\"python_expression_operators_and_preceden\"><caption><span class=\"label\">Table 5-2. </span></caption><thead><tr><th>Operators</th><th>Description</th></tr></thead><tbody><tr><td><p><code>x + y</code></p> <p><code>x – y</code></p></td><td><p>Addition,\n",
    "              concatenation;</p> <p>Subtraction, set\n",
    "              difference</p></td></tr><tr><td><p><code>x * y</code></p> <p><code>x % y</code></p> <p><code>x / y</code>, <code>x // y</code></p></td><td><p>Multiplication,<a data-type=\"indexterm\" data-primary=\"modulus operator\" id=\"idm45598227378312\"></a><a data-type=\"indexterm\" data-primary=\"% (percent sign)\" data-secondary=\"numeric modulus operator\" id=\"idm45598227377304\"></a>\n",
    "              <a data-type=\"indexterm\" data-primary=\"mathematical operations\" data-secondary=\"expression operators\" id=\"idm45598227376264\"></a>repetition;</p> <p>Remainder, format;</p>\n",
    "              <p>Division: true and floor</p></td></tr><tr><td><p><code>−x</code>, <code>+x</code></p></td><td><p>Negation,\n",
    "              identity</p></td></tr><tr><td><p><code>˜x</code></p></td><td><p>Bitwise NOT\n",
    "              (inversion)</p></td></tr><tr><td><p><code>x ** y</code></p></td><td><p>Power\n",
    "              (exponentiation)</p></td></tr></tbody></table>"
   ]
  },
  {
   "cell_type": "markdown",
   "metadata": {},
   "source": [
    "# Text Datatype"
   ]
  },
  {
   "cell_type": "code",
   "execution_count": null,
   "metadata": {},
   "outputs": [],
   "source": [
    "x_str = \"Python World\""
   ]
  },
  {
   "cell_type": "code",
   "execution_count": null,
   "metadata": {},
   "outputs": [],
   "source": [
    "#Indexing \n",
    "# print(x_str[0])\n",
    "x_str[0] = 'H'\n",
    "print(x_str)"
   ]
  },
  {
   "cell_type": "code",
   "execution_count": null,
   "metadata": {},
   "outputs": [],
   "source": [
    "type(x_str[0])"
   ]
  },
  {
   "cell_type": "code",
   "execution_count": null,
   "metadata": {},
   "outputs": [],
   "source": [
    "x_str[0].lower()"
   ]
  },
  {
   "cell_type": "code",
   "execution_count": null,
   "metadata": {},
   "outputs": [],
   "source": [
    "#Concatenation\n",
    "y_str = x_str+ ' Python'\n",
    "print(y_str)"
   ]
  },
  {
   "cell_type": "code",
   "execution_count": null,
   "metadata": {},
   "outputs": [],
   "source": [
    "#Slicing \n",
    "print(y_str[1:5])"
   ]
  },
  {
   "cell_type": "markdown",
   "metadata": {},
   "source": [
    "# Lists"
   ]
  },
  {
   "cell_type": "code",
   "execution_count": null,
   "metadata": {},
   "outputs": [],
   "source": []
  },
  {
   "cell_type": "markdown",
   "metadata": {},
   "source": [
    "# Tuples"
   ]
  },
  {
   "cell_type": "code",
   "execution_count": null,
   "metadata": {},
   "outputs": [],
   "source": [
    "tup_num = tuple()"
   ]
  },
  {
   "cell_type": "code",
   "execution_count": null,
   "metadata": {},
   "outputs": [],
   "source": [
    "print(dir(tup_num))"
   ]
  },
  {
   "cell_type": "code",
   "execution_count": null,
   "metadata": {},
   "outputs": [],
   "source": [
    "tup_cntry_1 = ('India','SriLanka','Bangladesh','Australia','China','Nepal')\n",
    "tup_cntry_2 = ('USA','Russia','Canada','UK','WestIndies','Iraq','SouthAfrica')"
   ]
  },
  {
   "cell_type": "markdown",
   "metadata": {},
   "source": [
    "## Shallow Copy"
   ]
  },
  {
   "cell_type": "markdown",
   "metadata": {},
   "source": [
    "## Deep Copy"
   ]
  },
  {
   "cell_type": "code",
   "execution_count": null,
   "metadata": {},
   "outputs": [],
   "source": [
    "import copy"
   ]
  },
  {
   "cell_type": "code",
   "execution_count": null,
   "metadata": {},
   "outputs": [],
   "source": []
  },
  {
   "cell_type": "markdown",
   "metadata": {},
   "source": [
    "# Dictionary"
   ]
  },
  {
   "cell_type": "markdown",
   "metadata": {},
   "source": [
    "# Sets"
   ]
  },
  {
   "cell_type": "code",
   "execution_count": null,
   "metadata": {},
   "outputs": [],
   "source": [
    "set_num = {1,2,3,4,5,6,5,6,4,7,'hello','Hello'}"
   ]
  },
  {
   "cell_type": "markdown",
   "metadata": {},
   "source": []
  },
  {
   "cell_type": "code",
   "execution_count": null,
   "metadata": {},
   "outputs": [],
   "source": []
  },
  {
   "cell_type": "markdown",
   "metadata": {},
   "source": [
    "# boolean"
   ]
  },
  {
   "cell_type": "code",
   "execution_count": null,
   "metadata": {},
   "outputs": [],
   "source": []
  },
  {
   "cell_type": "code",
   "execution_count": null,
   "metadata": {},
   "outputs": [],
   "source": []
  },
  {
   "cell_type": "markdown",
   "metadata": {},
   "source": [
    "# Category of Object Datatypes\n",
    "## Mutable \n"
   ]
  },
  {
   "cell_type": "code",
   "execution_count": null,
   "metadata": {},
   "outputs": [],
   "source": []
  },
  {
   "cell_type": "markdown",
   "metadata": {},
   "source": [
    "## Immutable"
   ]
  },
  {
   "cell_type": "code",
   "execution_count": null,
   "metadata": {},
   "outputs": [],
   "source": []
  },
  {
   "cell_type": "code",
   "execution_count": null,
   "metadata": {},
   "outputs": [],
   "source": []
  },
  {
   "cell_type": "code",
   "execution_count": null,
   "metadata": {},
   "outputs": [],
   "source": []
  },
  {
   "cell_type": "code",
   "execution_count": null,
   "metadata": {},
   "outputs": [],
   "source": []
  },
  {
   "cell_type": "code",
   "execution_count": null,
   "metadata": {},
   "outputs": [],
   "source": []
  }
 ],
 "metadata": {
  "kernelspec": {
   "display_name": "Python 3 (ipykernel)",
   "language": "python",
   "name": "python3"
  },
  "language_info": {
   "codemirror_mode": {
    "name": "ipython",
    "version": 3
   },
   "file_extension": ".py",
   "mimetype": "text/x-python",
   "name": "python",
   "nbconvert_exporter": "python",
   "pygments_lexer": "ipython3",
   "version": "3.12.4"
  },
  "toc": {
   "base_numbering": 1,
   "nav_menu": {},
   "number_sections": true,
   "sideBar": true,
   "skip_h1_title": false,
   "title_cell": "Table of Contents",
   "title_sidebar": "Contents",
   "toc_cell": false,
   "toc_position": {},
   "toc_section_display": true,
   "toc_window_display": false
  }
 },
 "nbformat": 4,
 "nbformat_minor": 4
}
