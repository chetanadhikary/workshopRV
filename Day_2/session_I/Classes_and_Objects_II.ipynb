{
 "cells": [
  {
   "cell_type": "markdown",
   "metadata": {},
   "source": [
    "# OOPs Design Concept\n",
    "<html>\n",
    "    <ul>\n",
    "        <li> Encapsulation\n",
    "        <li> Polymorphism\n",
    "        <li> Inheritance\n",
    "    </ul>\n",
    "</html>"
   ]
  },
  {
   "cell_type": "markdown",
   "metadata": {},
   "source": [
    "# Encapsulation"
   ]
  },
  {
   "cell_type": "code",
   "execution_count": 1,
   "metadata": {},
   "outputs": [],
   "source": [
    "class Rectangle:\n",
    "    \n",
    "    def __init__(self,x_value,y_value):\n",
    "        self.x = x_value\n",
    "        self.y = y_value\n",
    "    \n",
    "    def area(self):\n",
    "        '''\n",
    "         Encapsulating the behaviour of calculating the area\n",
    "        '''\n",
    "        return self.x*self.y\n",
    "    \n",
    "    def perimeter(self):\n",
    "        '''\n",
    "            Encapsulating the behaviour of calculating the perimeter\n",
    "        '''\n",
    "        return self.x+self.y"
   ]
  },
  {
   "cell_type": "code",
   "execution_count": 3,
   "metadata": {
    "tags": []
   },
   "outputs": [
    {
     "name": "stdout",
     "output_type": "stream",
     "text": [
      "12\n"
     ]
    }
   ],
   "source": [
    "shape1 = Rectangle(3,4)\n",
    "print(shape1.area())"
   ]
  },
  {
   "cell_type": "code",
   "execution_count": null,
   "metadata": {},
   "outputs": [],
   "source": [
    "class Car:\n",
    "    wheels = 4 ## Class variable shared by all instances \n",
    "    def __init__(self,model):\n",
    "        self.model = model\n",
    "        self.features = list() #instance variable unique to each instance\n",
    "     \n",
    "    \n",
    "    def add_features(self,*args):\n",
    "        '''\n",
    "            Encapsulating the behaviour of adding  the  features \n",
    "        '''\n",
    "        for feature in args:\n",
    "            self.features.append(feature)"
   ]
  },
  {
   "cell_type": "markdown",
   "metadata": {},
   "source": [
    "# Polymorphism"
   ]
  },
  {
   "cell_type": "code",
   "execution_count": 5,
   "metadata": {
    "tags": []
   },
   "outputs": [
    {
     "name": "stdout",
     "output_type": "stream",
     "text": [
      "[1, 2, 3, 4, 5] 123456\n"
     ]
    }
   ],
   "source": [
    "lst_num = [1,2,3,4,5]\n",
    "str_num = '123456'\n",
    "print(lst_num,str_num)"
   ]
  },
  {
   "cell_type": "code",
   "execution_count": 6,
   "metadata": {},
   "outputs": [],
   "source": [
    "str_1 = 'Chetan'\n",
    "str_2 = 'Adhikary'\n",
    "num1 = 5\n",
    "num2 = 6\n",
    "lst_num1 = [6,7,8,9]\n"
   ]
  },
  {
   "cell_type": "code",
   "execution_count": 7,
   "metadata": {
    "tags": []
   },
   "outputs": [
    {
     "name": "stdout",
     "output_type": "stream",
     "text": [
      "ChetanAdhikary\n",
      "11\n",
      "[1, 2, 3, 4, 5, 6, 7, 8, 9]\n"
     ]
    }
   ],
   "source": [
    "print(str_1 + str_2)\n",
    "print(num1 + num2)\n",
    "print(lst_num +lst_num1)"
   ]
  },
  {
   "cell_type": "code",
   "execution_count": null,
   "metadata": {},
   "outputs": [],
   "source": [
    "class ClassA:\n",
    "    ''' This is a Class '''\n",
    "    def __init__(self):\n",
    "        print('Inside')"
   ]
  },
  {
   "cell_type": "code",
   "execution_count": null,
   "metadata": {},
   "outputs": [],
   "source": [
    "ClassA()"
   ]
  },
  {
   "cell_type": "code",
   "execution_count": null,
   "metadata": {},
   "outputs": [],
   "source": [
    "help(ClassA)"
   ]
  },
  {
   "cell_type": "code",
   "execution_count": null,
   "metadata": {},
   "outputs": [],
   "source": [
    "a = ClassA()\n",
    "dir(a)"
   ]
  },
  {
   "cell_type": "code",
   "execution_count": 8,
   "metadata": {},
   "outputs": [],
   "source": [
    "class ComplexNumber:\n",
    "    '''This class is customized to complex numbers'''\n",
    "\n",
    "    def __init__(self,real,imag):\n",
    "        '''This is the initializer'''\n",
    "        self.real = real\n",
    "        self.imag = imag \n",
    "    \n",
    "    # def __doc__():\n",
    "    #     '''This gives the document string'''\n",
    "    #     statement= 'This class is customized to complex numbers'\n",
    "    #     return statement\n",
    "    \n",
    "    \n",
    "#     def __str__(self):\n",
    "#         x=str(self.real)+ '+'+str(self.imag)+'j'\n",
    "#         return x + '--> Complex number'\n",
    " \n",
    "    def __repr__(self):\n",
    "        ''' This method defines the string to be returned'''\n",
    "        x=str(self.real)+ '+'+str(self.imag)+'j'        \n",
    "        return x"
   ]
  },
  {
   "cell_type": "code",
   "execution_count": 9,
   "metadata": {},
   "outputs": [],
   "source": [
    "c1 = ComplexNumber(1,2)\n",
    "c2 = ComplexNumber(3,4)"
   ]
  },
  {
   "cell_type": "code",
   "execution_count": 10,
   "metadata": {},
   "outputs": [
    {
     "data": {
      "text/plain": [
       "1+2j"
      ]
     },
     "execution_count": 10,
     "metadata": {},
     "output_type": "execute_result"
    }
   ],
   "source": [
    "c1"
   ]
  },
  {
   "cell_type": "code",
   "execution_count": 31,
   "metadata": {
    "tags": []
   },
   "outputs": [
    {
     "name": "stdout",
     "output_type": "stream",
     "text": [
      "1+2j--> Complex number\n"
     ]
    }
   ],
   "source": [
    "print(c1)"
   ]
  },
  {
   "cell_type": "code",
   "execution_count": 33,
   "metadata": {},
   "outputs": [
    {
     "ename": "TypeError",
     "evalue": "unsupported operand type(s) for +: 'ComplexNumber' and 'ComplexNumber'",
     "output_type": "error",
     "traceback": [
      "\u001b[0;31m---------------------------------------------------------------------------\u001b[0m",
      "\u001b[0;31mTypeError\u001b[0m                                 Traceback (most recent call last)",
      "\u001b[0;32m<ipython-input-33-8d017dbb9e0c>\u001b[0m in \u001b[0;36m<module>\u001b[0;34m\u001b[0m\n\u001b[0;32m----> 1\u001b[0;31m \u001b[0mc1\u001b[0m \u001b[0;34m+\u001b[0m\u001b[0mc2\u001b[0m\u001b[0;34m\u001b[0m\u001b[0;34m\u001b[0m\u001b[0m\n\u001b[0m",
      "\u001b[0;31mTypeError\u001b[0m: unsupported operand type(s) for +: 'ComplexNumber' and 'ComplexNumber'"
     ]
    }
   ],
   "source": [
    "c1 + c2"
   ]
  },
  {
   "cell_type": "markdown",
   "metadata": {},
   "source": [
    "<html>\n",
    "    <ul>\n",
    "        <li> To get the following addition\n",
    "    </ul>\n",
    "</html>\n",
    "$(x+iy) + (a+ib) = (x+a)+i(y+b)$"
   ]
  },
  {
   "cell_type": "code",
   "execution_count": 14,
   "metadata": {},
   "outputs": [],
   "source": [
    "class ComplexNumber:\n",
    "    '''This class is customized to complex numbers'''\n",
    "\n",
    "    def __init__(self,real,imag):\n",
    "        '''This is the initializer'''\n",
    "        self.real = real\n",
    "        self.imag = imag \n",
    "    \n",
    "    def __add__(self,self2):\n",
    "        x = self.real + self2.real\n",
    "        y = self.imag +self2.imag\n",
    "        return ComplexNumber(x,y)\n",
    "    \n",
    "    def __str__(self):\n",
    "        x=str(self.real)+ '+'+str(self.imag)+'j'\n",
    "        return x + '--> Complex number'\n",
    "    \n",
    "    \n",
    " \n",
    "    def __repr__(self):\n",
    "        ''' This method defines the string to be returned'''\n",
    "        x=str(self.real)+ '+'+str(self.imag)+'j'   \n",
    "        return x\n",
    "\n"
   ]
  },
  {
   "cell_type": "code",
   "execution_count": 15,
   "metadata": {},
   "outputs": [],
   "source": [
    "c1 = ComplexNumber(1,2)\n",
    "c2 = ComplexNumber(3,4)\n",
    "\n",
    "c3 = c1+c2"
   ]
  },
  {
   "cell_type": "code",
   "execution_count": 17,
   "metadata": {},
   "outputs": [],
   "source": [
    "c3 = c1+c2"
   ]
  },
  {
   "cell_type": "code",
   "execution_count": 19,
   "metadata": {},
   "outputs": [
    {
     "data": {
      "text/plain": [
       "__main__.ComplexNumber"
      ]
     },
     "execution_count": 19,
     "metadata": {},
     "output_type": "execute_result"
    }
   ],
   "source": [
    "type(c3)"
   ]
  },
  {
   "cell_type": "markdown",
   "metadata": {},
   "source": [
    "<html>\n",
    "    <ul>\n",
    "        <li> Compare two complex number objects by calculating their magnitudes\n",
    "        <li> To get the magnitude of the complex number $x+iy$\n",
    "    </ul>\n",
    "</html>\n",
    "$m=\\sqrt{x^2 + y^2} $"
   ]
  },
  {
   "cell_type": "code",
   "execution_count": 16,
   "metadata": {},
   "outputs": [],
   "source": [
    "# %load class_2.py\n",
    "import math\n",
    "class ComplexNumber:\n",
    "    '''This class is customized to complex numbers'''\n",
    "\n",
    "    def __init__(self,real,imag):\n",
    "        '''This is the initializer'''\n",
    "        self.real = real\n",
    "        self.imag = imag \n",
    "    \n",
    "    def __add__(self,self2):\n",
    "        x = self.real + self2.real\n",
    "        y = self.imag +self2.imag\n",
    "        return ComplexNumber(x,y)\n",
    " \n",
    "    def __repr__(self):\n",
    "        ''' This method defines the string to be returned'''\n",
    "        x=str(self.real)+ '+'+str(self.imag)+'j'   \n",
    "        return x\n",
    "    \n",
    "    def get_mag(self):\n",
    "        return math.sqrt(self.real**2 + self.imag**2)\n",
    "    \n",
    "    def __lt__(self,self2):        \n",
    "        m1 = self.get_mag()\n",
    "        m2 = self2.get_mag()\n",
    "        return m1<m2\n",
    "        \n"
   ]
  },
  {
   "cell_type": "code",
   "execution_count": 17,
   "metadata": {},
   "outputs": [],
   "source": [
    "c1 = ComplexNumber(1,-3)\n",
    "c2 = ComplexNumber(2,1)\n",
    "c3 = ComplexNumber(5,6)\n",
    "c4 = ComplexNumber(1.23,3.4)"
   ]
  },
  {
   "cell_type": "code",
   "execution_count": 18,
   "metadata": {},
   "outputs": [],
   "source": [
    "lst_complex = [c1,c2,c3,c4]"
   ]
  },
  {
   "cell_type": "code",
   "execution_count": 19,
   "metadata": {},
   "outputs": [
    {
     "data": {
      "text/plain": [
       "__main__.ComplexNumber"
      ]
     },
     "execution_count": 19,
     "metadata": {},
     "output_type": "execute_result"
    }
   ],
   "source": [
    "type(lst_complex[1])"
   ]
  },
  {
   "cell_type": "code",
   "execution_count": 20,
   "metadata": {},
   "outputs": [
    {
     "data": {
      "text/plain": [
       "[2+1j, 1+-3j, 1.23+3.4j, 5+6j]"
      ]
     },
     "execution_count": 20,
     "metadata": {},
     "output_type": "execute_result"
    }
   ],
   "source": [
    "sorted(lst_complex)"
   ]
  },
  {
   "cell_type": "markdown",
   "metadata": {},
   "source": [
    "# Inheritance"
   ]
  },
  {
   "cell_type": "markdown",
   "metadata": {},
   "source": [
    "\n",
    "<table style=\"width: 850px;\"><tbody><tr><td style=\"width: 575px; text-align: center;\"><span style=\"color:DodgerBlue;\"><b>Type of Vehicle</b></span></td><td style=\"width: 62px; text-align: center;\"><span style=\"color:DodgerBlue;\"><b>GST Rate</b></span></td><td style=\"width: 109px; text-align: center;\"><span style=\"color:DodgerBlue;\"><b>Compensation Cess</b></span></td><td style=\"width: 80px; text-align: center;\"><span style=\"color:DodgerBlue;\"><b>Total Tax Payable</b></span></td></tr><tr><td style=\"width: 575px;\"><b>Petrol/CNG/LPG car less than 1200cc and length less than 4 meters </b></td><td style=\"width: 62px;\"><span style=\"font-weight: 400;\">28%</span></td><td style=\"width: 109px;\"><span style=\"font-weight: 400;\">1%</span></td><td style=\"width: 80px;\"><span style=\"font-weight: 400;\">29%</span></td></tr></span></td></tr><tr><td style=\"width: 575px;\"><b>Petrol/CNG/LPG car over 1200cc</b></td><td style=\"width: 62px;\"><span style=\"font-weight: 400;\">28%</span></td><td style=\"width: 109px;\"><span style=\"font-weight: 400;\">22%</span></td><td style=\"width: 80px;\"><span style=\"font-weight: 400;\">43%</span></td></tr>\n",
    "<head> Source:https://www.paisabazaar.com/tax/gst-on-cars/#GST_on_Cars_for_Personal_Use</head>"
   ]
  },
  {
   "cell_type": "code",
   "execution_count": 45,
   "metadata": {},
   "outputs": [
    {
     "name": "stdout",
     "output_type": "stream",
     "text": [
      "Total cost of Endevour is 55.0\n",
      "Total cost of Ford is 22.9\n"
     ]
    }
   ],
   "source": [
    "# %load car_class.py\n",
    "class Car:\n",
    "#     wheels = 4 ## Class variable shared by all instances \n",
    "    def __init__(self,model,cost):\n",
    "        self.model = model\n",
    "        self.cost = float(cost)\n",
    "        self.features = list() #instance variable unique to each instance\n",
    "     \n",
    "    def __repr__(self):\n",
    "        repr_str = 'Model Name --> {}\\n Ex-Showroom Price --> {}'.format(self.model,self.cost)\n",
    "        return repr_str\n",
    "    \n",
    "    def add_features(self,*args):\n",
    "        '''\n",
    "            Encapsulating the behaviour of adding  the  features \n",
    "        '''\n",
    "        for feature in args:\n",
    "            self.features.append(feature)\n",
    "    \n",
    "    def car_tax(self,percent):\n",
    "        '''\n",
    "            percent--> the tax percent in decimal.\n",
    "            i.e 0.1--> 10%\n",
    "        '''\n",
    "        self.tax = float(self.cost*(1+float(percent)))\n",
    "    \n",
    "    def total_cost_cal(self):\n",
    "        self.total_cost = self.cost + self.tax\n",
    "        print('Total cost of {} is {}'.format(self.model,self.total_cost))\n",
    "            \n",
    "class Suv(Car): ## Inherits from the class Car\n",
    "    def car_tax(self,percent,extra):\n",
    "        '''\n",
    "            percent--> the tax percent in decimal.\n",
    "            i.e 0.1--> 10%\n",
    "            extra--> extra tax for SUV(bigger car)\n",
    "        '''\n",
    "        Car.car_tax(self,percent+float(extra))\n",
    "        \n",
    "class SmallCar(Car):\n",
    "    def car_tax(self,percent,extra):\n",
    "        '''\n",
    "            percent--> the tax percent in decimal.\n",
    "            i.e 0.1--> 10%\n",
    "            extra--> extra tax for SUV(bigger car)\n",
    "        '''\n",
    "        Car.car_tax(self,percent+float(extra))\n",
    "        \n",
    "\n",
    "if __name__=='__main__':\n",
    "    \n",
    "    s1 = Suv('Endevour','22')\n",
    "    c1 = SmallCar('Ford','10')\n",
    "\n",
    "    \n",
    "\n",
    "    s1.car_tax(0.28,0.22)\n",
    "    c1.car_tax(0.28,0.01)\n",
    "\n",
    "    s1.total_cost_cal()\n",
    "    c1.total_cost_cal()\n",
    "    \n",
    "\n"
   ]
  },
  {
   "cell_type": "markdown",
   "metadata": {},
   "source": [
    "## Parent Contructor Inheritance"
   ]
  },
  {
   "cell_type": "code",
   "execution_count": 1,
   "metadata": {},
   "outputs": [],
   "source": [
    "class Car:\n",
    "    wheels = 4 ## Class variable shared by all instances \n",
    "    def __init__(self,model,cost,car_type = None):\n",
    "        self.model = model\n",
    "        self.car_type = car_type\n",
    "        self.cost = float(cost)\n",
    "        self.features = list() #instance variable unique to each instance\n",
    "     \n",
    "    def __repr__(self):\n",
    "        repr_str = 'Model Name --> {}\\n Ex-Showroom Price --> {}\\nCar type --> {}'.format(self.model,\n",
    "                                                                                          self.cost,\n",
    "                                                                                          self.__class__.__name__)\n",
    "#         self.__class__.__name__          \n",
    "        # __class__ provides the link to class from which it originated\n",
    "        # __name__ classes have name\n",
    "        return repr_str\n",
    "    \n",
    "    def add_features(self,*args):\n",
    "        '''\n",
    "            Encapsulating the behaviour of adding  the  features \n",
    "        '''\n",
    "        for feature in args:\n",
    "            self.features.append(feature)\n",
    "    \n",
    "    def car_tax(self,percent):\n",
    "        '''\n",
    "            percent--> the tax percent in decimal.\n",
    "            i.e 0.1--> 10%\n",
    "        '''\n",
    "        self.tax = float(self.cost*(1+float(percent)))\n",
    "    \n",
    "    def total_cost(self):        \n",
    "        self.total_cost = self.cost + self.tax\n",
    "        print('Total cost of {} is {}'.format(self.model,self.total_cost))\n",
    "        \n",
    "\n",
    "            \n",
    "class Suv(Car): ## Inherits from the class Car\n",
    "    \n",
    "    def __init__(self,model,cost):\n",
    "        Car.__init__(self,model,cost,'SUV')\n",
    "        \n",
    "    def car_tax(self,percent=0.22,extra=0.28):\n",
    "        '''\n",
    "            percent--> the tax percent in decimal.\n",
    "            i.e 0.1--> 10%\n",
    "            extra--> extra tax for SUV(bigger car)\n",
    "        '''\n",
    "        Car.car_tax(self,percent+float(extra))\n",
    "        \n",
    "class SmallCar(Car):\n",
    "    \n",
    "    def __init__(self,model,cost):\n",
    "        Car.__init__(self,model,cost,'Small Car')"
   ]
  },
  {
   "cell_type": "code",
   "execution_count": 2,
   "metadata": {},
   "outputs": [],
   "source": [
    "s1 = Suv('Endevour','22')\n",
    "c1 = SmallCar('indica','5')\n"
   ]
  },
  {
   "cell_type": "code",
   "execution_count": 3,
   "metadata": {},
   "outputs": [],
   "source": [
    "c_1 = Car('indica','5')"
   ]
  },
  {
   "cell_type": "code",
   "execution_count": 4,
   "metadata": {},
   "outputs": [
    {
     "name": "stdout",
     "output_type": "stream",
     "text": [
      "Total cost of Endevour is 55.0\n"
     ]
    }
   ],
   "source": [
    "s1.car_tax()\n",
    "s1.total_cost()"
   ]
  },
  {
   "cell_type": "code",
   "execution_count": 5,
   "metadata": {},
   "outputs": [
    {
     "name": "stdout",
     "output_type": "stream",
     "text": [
      "s1--> SUV\n",
      "c1--> Small Car\n"
     ]
    }
   ],
   "source": [
    "print('s1-->',s1.car_type)\n",
    "print('c1-->',c1.car_type)"
   ]
  },
  {
   "cell_type": "code",
   "execution_count": 12,
   "metadata": {},
   "outputs": [
    {
     "data": {
      "text/plain": [
       "{'model': 'Endevour',\n",
       " 'car_type': 'SUV',\n",
       " 'cost': 22.0,\n",
       " 'features': [],\n",
       " 'tax': 33.0,\n",
       " 'total_cost': 55.0}"
      ]
     },
     "execution_count": 12,
     "metadata": {},
     "output_type": "execute_result"
    }
   ],
   "source": [
    "## Usefull features\n",
    "# Car.__bases__\n",
    "# Suv.__bases__\n",
    "# s1.__class__\n",
    "s1.__dict__\n"
   ]
  },
  {
   "cell_type": "code",
   "execution_count": null,
   "metadata": {},
   "outputs": [],
   "source": [
    "Suv.__name__"
   ]
  },
  {
   "cell_type": "code",
   "execution_count": null,
   "metadata": {},
   "outputs": [],
   "source": [
    "c_1"
   ]
  },
  {
   "cell_type": "markdown",
   "metadata": {},
   "source": [
    "    \n",
    "<html>\n",
    "    <ul>\n",
    "    <li>Source :Learning Python, 5th Edition\n",
    "by Mark Lutz\n",
    "    </ul></html>"
   ]
  },
  {
   "cell_type": "markdown",
   "metadata": {},
   "source": [
    "<head>Source :Learning Python, 5th Edition</head>\n",
    "<table style=\"width: 100%; \">\n",
    "    <tbody>\n",
    "        <tr>\n",
    "            <td style=\"width: 25%; text-align: left;  \"><span style=\"color:DodgerBlue;\"><b>Method</b></span></td>\n",
    "            <td style=\"width: 25%; text-align: left;\"><span style=\"color:DodgerBlue;\"><b>Implements</b></span></td>\n",
    "            <td style=\"width: 50%; text-align: left;\"><span style=\"color:DodgerBlue;\"><b>Called for</b></span></td>\n",
    "        </tr>\n",
    "    <tr><td><p><code>__init__</code></p></td><td><p>Cons<a data-type=\"indexterm\" data-primary=\"__init__ method\" data-secondary=\"about\" data-primary-sortas=\"init method\" id=\"idm45598210059128\"></a>tructor</p></td><td><p>Object creation: <code>X = Class(args)</code></p></td></tr><tr><td><p><code>__del__</code></p></td><td><p>Destr<a data-type=\"indexterm\" data-primary=\"__del__ method\" data-secondary=\"about\" data-primary-sortas=\"del method\" id=\"idm45598210054088\"></a>uctor</p></td><td><p>Object reclamation of <code>X</code></p></td></tr><tr><td><p><code>__add__</code></p></td><td><p>Opera<a data-type=\"indexterm\" data-primary=\"__add__ method\" data-primary-sortas=\"add method\" id=\"idm45598210050776\"></a>tor <code>+</code></p></td><td><p><code>X + Y</code>, <code>X += Y</code> if no <code>__iadd__</code></p></td></tr><tr><td><p><code>__or__</code></p></td><td><p>Opera<a data-type=\"indexterm\" data-primary=\"__or__ method\" data-primary-sortas=\"or method\" id=\"idm45598210046616\"></a>tor <code>|</code> (bitwise OR)</p></td><td><p><code>X | Y</code>, <code>X |= Y</code> if no <code>__ior__</code></p></td></tr><tr><td><p><code>__repr__</code>, <code>__str__</code></p></td><td><p>Printing, <a data-type=\"indexterm\" data-primary=\"__str__ method\" data-secondary=\"about\" data-primary-sortas=\"str method\" id=\"idm45598210041928\"></a><a data-type=\"indexterm\" data-primary=\"__repr__ method\" data-secondary=\"about\" data-primary-sortas=\"repr method\" id=\"idm45598210040472\"></a>conversions</p></td><td><p><code>print(X)</code>, <code>repr(X)</code>, <code>str(X)</code></p></td></tr><tr><td><p><code>__call__</code></p></td><td><p>Function <a data-type=\"indexterm\" data-primary=\"__call__ method\" data-secondary=\"about\" data-primary-sortas=\"call method\" id=\"idm45598210036392\"></a>calls</p></td><td><p><code>X(*args, **kargs)</code></p></td></tr><tr><td><p><code>__getattr__</code></p></td><td><p>Attribute<a data-type=\"indexterm\" data-primary=\"__getattr__\n",
    "                  method\" data-secondary=\"about\" data-primary-sortas=\"getattr method\" id=\"idm45598210033208\"></a> fetch</p></td><td><p><code>X.undefined</code></p></td></tr><tr><td><p><code>__setattr__</code></p></td><td><p>Attribute <a data-type=\"indexterm\" data-primary=\"__setattr__\n",
    "                  method\" data-secondary=\"about\" data-primary-sortas=\"setattr method\" id=\"idm45598210030024\"></a>assignment</p></td><td><p><code>X.any = value</code></p></td></tr><tr><td><p><code>__delattr__</code></p></td><td><p>Attribute <a data-type=\"indexterm\" data-primary=\"__delattr__\n",
    "                  method\" data-primary-sortas=\"delattr method\" id=\"idm45598210026840\"></a>deletion</p></td><td><p><code>del X.any</code></p></td></tr><tr><td><p><code>__getattribute__</code></p></td><td><p>Attribute<a data-type=\"indexterm\" data-primary=\"__getattribute__\n",
    "                  method\" data-secondary=\"about\" data-primary-sortas=\"getattribute method\" id=\"idm45598210023928\"></a> fetch</p></td><td><p><code>X.any</code></p></td></tr><tr><td><p><code>__getitem__</code></p></td><td><p>Indexing, <a data-type=\"indexterm\" data-primary=\"__getitem__\n",
    "                  method\" data-secondary=\"about\" data-primary-sortas=\"getitem method\" id=\"idm45598210020680\"></a>slicing, iteration</p></td><td><p><code>X[key]</code>, <code>X[i:j]</code>, <code>for</code> loops and other iterations if no\n",
    "              <code>__iter__</code></p></td></tr><tr><td><p><code>__setitem__</code></p></td><td><p>Index and <a data-type=\"indexterm\" data-primary=\"__setitem__\n",
    "                  method\" data-primary-sortas=\"setitem method\" id=\"idm45598210017544\"></a>slice assignment</p></td><td><p><code>X[key] = value</code>, <code>X[i:j] = iterable</code></p></td></tr><tr><td><p><code>__delitem__</code></p></td><td><p>Index and <a data-type=\"indexterm\" data-primary=\"__delitem__\n",
    "                  method\" data-primary-sortas=\"delitem method\" id=\"idm45598210012824\"></a>slice deletion</p></td><td><p><code>del X[key]</code>, <code>del X[i:j]</code></p></td></tr><tr><td><p><code>__len__</code></p></td><td><p>Len<a data-type=\"indexterm\" data-primary=\"__len__ method\" data-primary-sortas=\"len method\" id=\"idm45598210009528\"></a>gth</p></td><td><p><code>len(X)</code>, truth tests if no <code>__bool__</code></p></td></tr><tr><td><p><code>__bool__</code></p></td><td><p>Boolean<a data-type=\"indexterm\" data-primary=\"__bool__ method\" data-primary-sortas=\"bool method\" id=\"idm45598210006168\"></a> tests</p></td><td><p><code>bool(X)</code>, truth tests (named <code>__nonzero__</code> in 2.X)</p></td></tr><tr><td><p><code>__lt__</code>, <code>__gt__</code>,</p><p><code>__le__</code>, <code>__ge__</code>,</p><p><code>__eq__</code>, <code>__ne__</code></p></td><td><p>Comp<a data-type=\"indexterm\" data-primary=\"__lt__ method\" data-primary-sortas=\"lt method\" id=\"idm45598210000088\"></a><a data-type=\"indexterm\" data-primary=\"__gt__ method\" data-primary-sortas=\"gt method\" id=\"idm45598209998872\"></a><a data-type=\"indexterm\" data-primary=\"__le__ method\" data-primary-sortas=\"le method\" id=\"idm45598209997768\"></a><a data-type=\"indexterm\" data-primary=\"__ge__ method\" data-primary-sortas=\"ge method\" id=\"idm45598209996632\"></a><a data-type=\"indexterm\" data-primary=\"__eq__ method\" data-primary-sortas=\"eq method\" id=\"idm45598209995560\"></a><a data-type=\"indexterm\" data-primary=\"__ne__ method\" data-primary-sortas=\"ne method\" id=\"idm45598209994424\"></a>arisons</p></td><td><p><code>X &lt; Y</code>, <code>X &gt; Y</code>, <code>X &lt;= Y</code>, <code>X &gt;= Y</code>, <code>X == Y</code>,</p><p><code>X != Y</code> (or else <code>__cmp__</code> in 2.X only)</p></td></tr><tr><td><p><code>__radd__</code></p></td><td><p>Right-side <a data-type=\"indexterm\" data-primary=\"__radd__ method\" data-primary-sortas=\"radd method\" id=\"idm45598209988712\"></a>operators</p></td><td><p><code>Other + X</code></p></td></tr><tr><td><p><code>__iadd__</code></p></td><td><p>In-place <a data-type=\"indexterm\" data-primary=\"__iadd__ method\" data-primary-sortas=\"iadd method\" id=\"idm45598209985768\"></a>augmented operators</p></td><td><p><code>X += Y</code> (or else <code>__add__</code>)</p></td></tr><tr><td><p><code>__iter__</code>, <code>__next__</code></p></td><td><p>Iteration <a data-type=\"indexterm\" data-primary=\"__iter__ method\" data-secondary=\"about\" data-primary-sortas=\"iter method\" id=\"idm45598209981768\"></a><a data-type=\"indexterm\" data-primary=\"__next__ method\" data-secondary=\"about\" data-primary-sortas=\"next method\" id=\"idm45598209980280\"></a>contexts</p></td><td><p><code>I=iter(X)</code>, <code>next(I)</code>; <code>for</code> loops, <code>in</code> if no <code>__contains__</code>, all comprehensions,\n",
    "              <code>map(F,X)</code>, others (<code>__next__</code> is named <code>next</code> in 2.X)</p></td></tr><tr><td><p><code>__contains__</code></p></td><td><p>Membership <a data-type=\"indexterm\" data-primary=\"__contains__\n",
    "                  method\" data-primary-sortas=\"contains method\" id=\"idm45598209973848\"></a>test</p></td><td><p><code>item in X</code> (any\n",
    "              iterable)</p></td></tr><tr><td><p><code>__index__</code></p></td><td><p>Integer <a data-type=\"indexterm\" data-primary=\"__index__ method\" data-primary-sortas=\"index method\" id=\"idm45598209970888\"></a>value</p></td><td><p><code>hex(X)</code>, <code>bin(X)</code>, <code>oct(X)</code>, <code>O[X]</code>, <code>O[X:]</code> (replaces 2.X <code>__oct__</code>, <code>__hex__</code>)</p></td></tr><tr><td><p><code>__enter__</code>, <code>__exit__</code></p></td><td><p>Context <a data-type=\"indexterm\" data-primary=\"__enter__ method\" data-primary-sortas=\"enter method\" id=\"idm45598209964632\"></a><a data-type=\"indexterm\" data-primary=\"__exit__ method\" data-primary-sortas=\"exit method\" id=\"idm45598209963400\"></a>manager </p></td><td><p><code>with obj as var:</code></p></td></tr><tr><td><p><code>__get__</code>, <code>__set__</code>, <code>__delete__</code></p></td><td><p>Descriptor <a data-type=\"indexterm\" data-primary=\"__get__ method\" data-secondary=\"about\" data-primary-sortas=\"get method\" id=\"idm45598209958680\"></a><a data-type=\"indexterm\" data-primary=\"__set__ method\" data-secondary=\"about\" data-primary-sortas=\"set method\" id=\"idm45598209957240\"></a><a data-type=\"indexterm\" data-primary=\"__delete__ method\" data-primary-sortas=\"delete method\" id=\"idm45598209955864\"></a>attributes</p></td><td><p><code>X.attr, X.attr = value, del X.attr</code></p></td></tr><tr><td><p><code>__new__</code></p></td><td><p>Crea<a data-type=\"indexterm\" data-primary=\"__new__ method\" data-primary-sortas=\"new method\" id=\"idm45598209952024\"></a>tion </p></td><td><p>Object creation, before\n",
    "              <code>__init__</code></p></td></tr></tbody></table><p>\n",
    "    "
   ]
  },
  {
   "cell_type": "code",
   "execution_count": null,
   "metadata": {},
   "outputs": [],
   "source": []
  }
 ],
 "metadata": {
  "kernelspec": {
   "display_name": "Python 3 (ipykernel)",
   "language": "python",
   "name": "python3"
  },
  "language_info": {
   "codemirror_mode": {
    "name": "ipython",
    "version": 3
   },
   "file_extension": ".py",
   "mimetype": "text/x-python",
   "name": "python",
   "nbconvert_exporter": "python",
   "pygments_lexer": "ipython3",
   "version": "3.9.7"
  },
  "toc": {
   "base_numbering": 1,
   "nav_menu": {},
   "number_sections": true,
   "sideBar": true,
   "skip_h1_title": false,
   "title_cell": "Table of Contents",
   "title_sidebar": "Contents",
   "toc_cell": false,
   "toc_position": {},
   "toc_section_display": true,
   "toc_window_display": true
  }
 },
 "nbformat": 4,
 "nbformat_minor": 2
}
